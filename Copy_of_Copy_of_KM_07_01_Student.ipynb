{
  "nbformat": 4,
  "nbformat_minor": 0,
  "metadata": {
    "kernelspec": {
      "display_name": "Python 3",
      "language": "python",
      "name": "python3"
    },
    "language_info": {
      "codemirror_mode": {
        "name": "ipython",
        "version": 3
      },
      "file_extension": ".py",
      "mimetype": "text/x-python",
      "name": "python",
      "nbconvert_exporter": "python",
      "pygments_lexer": "ipython3",
      "version": "3.7.6"
    },
    "colab": {
      "name": "Copy of Copy of KM_07_01_Student.ipynb",
      "provenance": [],
      "collapsed_sections": []
    }
  },
  "cells": [
    {
      "cell_type": "markdown",
      "metadata": {
        "id": "fXyErK3La9VY"
      },
      "source": [
        "## Import Library yg dibutuhkan"
      ]
    },
    {
      "cell_type": "code",
      "metadata": {
        "id": "o-sY0DCpa9Vi"
      },
      "source": [
        "import pandas as pd\n",
        "import matplotlib.pyplot as plt\n",
        "\n",
        "#tambahkan library sesuai kebutuhan"
      ],
      "execution_count": null,
      "outputs": []
    },
    {
      "cell_type": "markdown",
      "metadata": {
        "id": "uLNZYwquyKKa"
      },
      "source": [
        ""
      ]
    },
    {
      "cell_type": "code",
      "metadata": {
        "id": "mdVVIvqIa9Vm"
      },
      "source": [
        "data = pd.read_csv('/content/activity_km_07_01.csv')"
      ],
      "execution_count": null,
      "outputs": []
    },
    {
      "cell_type": "code",
      "metadata": {
        "id": "Kwh2UjUMa9Vo",
        "colab": {
          "base_uri": "https://localhost:8080/",
          "height": 417
        },
        "outputId": "165b41fc-9599-495b-817e-035a92025d16"
      },
      "source": [
        "data"
      ],
      "execution_count": null,
      "outputs": [
        {
          "output_type": "execute_result",
          "data": {
            "text/html": [
              "<div>\n",
              "<style scoped>\n",
              "    .dataframe tbody tr th:only-of-type {\n",
              "        vertical-align: middle;\n",
              "    }\n",
              "\n",
              "    .dataframe tbody tr th {\n",
              "        vertical-align: top;\n",
              "    }\n",
              "\n",
              "    .dataframe thead th {\n",
              "        text-align: right;\n",
              "    }\n",
              "</style>\n",
              "<table border=\"1\" class=\"dataframe\">\n",
              "  <thead>\n",
              "    <tr style=\"text-align: right;\">\n",
              "      <th></th>\n",
              "      <th>PH</th>\n",
              "      <th>cahaya</th>\n",
              "      <th>intensitas air</th>\n",
              "      <th>suhu</th>\n",
              "      <th>PPM</th>\n",
              "      <th>tinggi air</th>\n",
              "      <th>aksi</th>\n",
              "    </tr>\n",
              "  </thead>\n",
              "  <tbody>\n",
              "    <tr>\n",
              "      <th>0</th>\n",
              "      <td>6.5</td>\n",
              "      <td>Ada</td>\n",
              "      <td>Tinggi</td>\n",
              "      <td>27.0</td>\n",
              "      <td>188.0</td>\n",
              "      <td>622</td>\n",
              "      <td>Hidupkan Lampu dan Pompa nutrisi TDS</td>\n",
              "    </tr>\n",
              "    <tr>\n",
              "      <th>1</th>\n",
              "      <td>5.7</td>\n",
              "      <td>Ada</td>\n",
              "      <td>Tinggi</td>\n",
              "      <td>26.9</td>\n",
              "      <td>79.0</td>\n",
              "      <td>557</td>\n",
              "      <td>Hidupkan Lampu dan Pompa nutrisi TDS</td>\n",
              "    </tr>\n",
              "    <tr>\n",
              "      <th>2</th>\n",
              "      <td>6.0</td>\n",
              "      <td>Ada</td>\n",
              "      <td>Tinggi</td>\n",
              "      <td>27.0</td>\n",
              "      <td>11.0</td>\n",
              "      <td>491</td>\n",
              "      <td>Hidupkan Lampu dan Pompa nutrisi TDS</td>\n",
              "    </tr>\n",
              "    <tr>\n",
              "      <th>3</th>\n",
              "      <td>6.5</td>\n",
              "      <td>Ada</td>\n",
              "      <td>Tinggi</td>\n",
              "      <td>27.1</td>\n",
              "      <td>345.0</td>\n",
              "      <td>12000</td>\n",
              "      <td>Tidak melakukan apa-apa</td>\n",
              "    </tr>\n",
              "    <tr>\n",
              "      <th>4</th>\n",
              "      <td>6.2</td>\n",
              "      <td>NaN</td>\n",
              "      <td>Tinggi</td>\n",
              "      <td>27.1</td>\n",
              "      <td>602.0</td>\n",
              "      <td>444</td>\n",
              "      <td>Tidak melakukan apa-apa</td>\n",
              "    </tr>\n",
              "    <tr>\n",
              "      <th>...</th>\n",
              "      <td>...</td>\n",
              "      <td>...</td>\n",
              "      <td>...</td>\n",
              "      <td>...</td>\n",
              "      <td>...</td>\n",
              "      <td>...</td>\n",
              "      <td>...</td>\n",
              "    </tr>\n",
              "    <tr>\n",
              "      <th>611</th>\n",
              "      <td>4.6</td>\n",
              "      <td>Ada</td>\n",
              "      <td>Rendah sekali</td>\n",
              "      <td>25.3</td>\n",
              "      <td>904.0</td>\n",
              "      <td>47</td>\n",
              "      <td>Hidupkan Lampu</td>\n",
              "    </tr>\n",
              "    <tr>\n",
              "      <th>612</th>\n",
              "      <td>2.1</td>\n",
              "      <td>Ada</td>\n",
              "      <td>Rendah sekali</td>\n",
              "      <td>25.0</td>\n",
              "      <td>388.0</td>\n",
              "      <td>18</td>\n",
              "      <td>Hidupkan Lampu dan Pompa nutrisi TDS</td>\n",
              "    </tr>\n",
              "    <tr>\n",
              "      <th>613</th>\n",
              "      <td>3.2</td>\n",
              "      <td>Ada</td>\n",
              "      <td>Rendah sekali</td>\n",
              "      <td>25.3</td>\n",
              "      <td>793.0</td>\n",
              "      <td>19</td>\n",
              "      <td>Hidupkan Lampu</td>\n",
              "    </tr>\n",
              "    <tr>\n",
              "      <th>614</th>\n",
              "      <td>1.4</td>\n",
              "      <td>Ada</td>\n",
              "      <td>Rendah sekali</td>\n",
              "      <td>25.4</td>\n",
              "      <td>1052.0</td>\n",
              "      <td>3</td>\n",
              "      <td>Hidupkan Lampu</td>\n",
              "    </tr>\n",
              "    <tr>\n",
              "      <th>615</th>\n",
              "      <td>5.0</td>\n",
              "      <td>Ada</td>\n",
              "      <td>Rendah sekali</td>\n",
              "      <td>25.3</td>\n",
              "      <td>977.0</td>\n",
              "      <td>19</td>\n",
              "      <td>Hidupkan Lampu</td>\n",
              "    </tr>\n",
              "  </tbody>\n",
              "</table>\n",
              "<p>616 rows × 7 columns</p>\n",
              "</div>"
            ],
            "text/plain": [
              "      PH cahaya  ... tinggi air                                  aksi\n",
              "0    6.5    Ada  ...        622  Hidupkan Lampu dan Pompa nutrisi TDS\n",
              "1    5.7    Ada  ...        557  Hidupkan Lampu dan Pompa nutrisi TDS\n",
              "2    6.0    Ada  ...        491  Hidupkan Lampu dan Pompa nutrisi TDS\n",
              "3    6.5    Ada  ...      12000               Tidak melakukan apa-apa\n",
              "4    6.2    NaN  ...        444               Tidak melakukan apa-apa\n",
              "..   ...    ...  ...        ...                                   ...\n",
              "611  4.6    Ada  ...         47                        Hidupkan Lampu\n",
              "612  2.1    Ada  ...         18  Hidupkan Lampu dan Pompa nutrisi TDS\n",
              "613  3.2    Ada  ...         19                        Hidupkan Lampu\n",
              "614  1.4    Ada  ...          3                        Hidupkan Lampu\n",
              "615  5.0    Ada  ...         19                        Hidupkan Lampu\n",
              "\n",
              "[616 rows x 7 columns]"
            ]
          },
          "metadata": {},
          "execution_count": 3
        }
      ]
    },
    {
      "cell_type": "code",
      "metadata": {
        "colab": {
          "base_uri": "https://localhost:8080/"
        },
        "id": "2zSE8PQMBM2a",
        "outputId": "37c10265-0a55-42a6-ed15-177b8c8c3f89"
      },
      "source": [
        "data.columns"
      ],
      "execution_count": null,
      "outputs": [
        {
          "output_type": "execute_result",
          "data": {
            "text/plain": [
              "Index(['PH', 'cahaya', 'intensitas air', 'suhu', 'PPM', 'tinggi air', 'aksi'], dtype='object')"
            ]
          },
          "metadata": {},
          "execution_count": 4
        }
      ]
    },
    {
      "cell_type": "code",
      "metadata": {
        "colab": {
          "base_uri": "https://localhost:8080/"
        },
        "id": "WZsWhBfLBmMd",
        "outputId": "33cd9878-3479-4e12-8cf2-e7ebd1a9c486"
      },
      "source": [
        "data.shape[0]"
      ],
      "execution_count": null,
      "outputs": [
        {
          "output_type": "execute_result",
          "data": {
            "text/plain": [
              "616"
            ]
          },
          "metadata": {},
          "execution_count": 5
        }
      ]
    },
    {
      "cell_type": "code",
      "metadata": {
        "colab": {
          "base_uri": "https://localhost:8080/"
        },
        "id": "QlCODWuUByjw",
        "outputId": "dc99c2c9-812c-4421-d99f-e1da29498b6f"
      },
      "source": [
        "data.dtypes"
      ],
      "execution_count": null,
      "outputs": [
        {
          "output_type": "execute_result",
          "data": {
            "text/plain": [
              "PH                float64\n",
              "cahaya             object\n",
              "intensitas air     object\n",
              "suhu              float64\n",
              "PPM               float64\n",
              "tinggi air          int64\n",
              "aksi               object\n",
              "dtype: object"
            ]
          },
          "metadata": {},
          "execution_count": 7
        }
      ]
    },
    {
      "cell_type": "markdown",
      "metadata": {
        "id": "WZ3GE8pya9Vr"
      },
      "source": [
        "## 1. Mengganti nama kolom yang menggunakan spasi"
      ]
    },
    {
      "cell_type": "code",
      "metadata": {
        "id": "v0csWHwRa9Vs"
      },
      "source": [
        "#isi code\n",
        "data.columns = ['PH', 'cahaya', 'intensitas_air', 'suhu', 'PPM', 'tinggi_air', 'aksi']"
      ],
      "execution_count": null,
      "outputs": []
    },
    {
      "cell_type": "code",
      "metadata": {
        "colab": {
          "base_uri": "https://localhost:8080/",
          "height": 203
        },
        "id": "9qkifIXBEJhu",
        "outputId": "c80b04b1-3515-4ff7-92c4-f7b8574e4021"
      },
      "source": [
        "data.head()"
      ],
      "execution_count": null,
      "outputs": [
        {
          "output_type": "execute_result",
          "data": {
            "text/html": [
              "<div>\n",
              "<style scoped>\n",
              "    .dataframe tbody tr th:only-of-type {\n",
              "        vertical-align: middle;\n",
              "    }\n",
              "\n",
              "    .dataframe tbody tr th {\n",
              "        vertical-align: top;\n",
              "    }\n",
              "\n",
              "    .dataframe thead th {\n",
              "        text-align: right;\n",
              "    }\n",
              "</style>\n",
              "<table border=\"1\" class=\"dataframe\">\n",
              "  <thead>\n",
              "    <tr style=\"text-align: right;\">\n",
              "      <th></th>\n",
              "      <th>PH</th>\n",
              "      <th>cahaya</th>\n",
              "      <th>intensitas_air</th>\n",
              "      <th>suhu</th>\n",
              "      <th>PPM</th>\n",
              "      <th>tinggi_air</th>\n",
              "      <th>aksi</th>\n",
              "    </tr>\n",
              "  </thead>\n",
              "  <tbody>\n",
              "    <tr>\n",
              "      <th>0</th>\n",
              "      <td>6.5</td>\n",
              "      <td>Ada</td>\n",
              "      <td>Tinggi</td>\n",
              "      <td>27.0</td>\n",
              "      <td>188.0</td>\n",
              "      <td>622</td>\n",
              "      <td>Hidupkan Lampu dan Pompa nutrisi TDS</td>\n",
              "    </tr>\n",
              "    <tr>\n",
              "      <th>1</th>\n",
              "      <td>5.7</td>\n",
              "      <td>Ada</td>\n",
              "      <td>Tinggi</td>\n",
              "      <td>26.9</td>\n",
              "      <td>79.0</td>\n",
              "      <td>557</td>\n",
              "      <td>Hidupkan Lampu dan Pompa nutrisi TDS</td>\n",
              "    </tr>\n",
              "    <tr>\n",
              "      <th>2</th>\n",
              "      <td>6.0</td>\n",
              "      <td>Ada</td>\n",
              "      <td>Tinggi</td>\n",
              "      <td>27.0</td>\n",
              "      <td>11.0</td>\n",
              "      <td>491</td>\n",
              "      <td>Hidupkan Lampu dan Pompa nutrisi TDS</td>\n",
              "    </tr>\n",
              "    <tr>\n",
              "      <th>3</th>\n",
              "      <td>6.5</td>\n",
              "      <td>Ada</td>\n",
              "      <td>Tinggi</td>\n",
              "      <td>27.1</td>\n",
              "      <td>345.0</td>\n",
              "      <td>12000</td>\n",
              "      <td>Tidak melakukan apa-apa</td>\n",
              "    </tr>\n",
              "    <tr>\n",
              "      <th>4</th>\n",
              "      <td>6.2</td>\n",
              "      <td>NaN</td>\n",
              "      <td>Tinggi</td>\n",
              "      <td>27.1</td>\n",
              "      <td>602.0</td>\n",
              "      <td>444</td>\n",
              "      <td>Tidak melakukan apa-apa</td>\n",
              "    </tr>\n",
              "  </tbody>\n",
              "</table>\n",
              "</div>"
            ],
            "text/plain": [
              "    PH cahaya  ... tinggi_air                                  aksi\n",
              "0  6.5    Ada  ...        622  Hidupkan Lampu dan Pompa nutrisi TDS\n",
              "1  5.7    Ada  ...        557  Hidupkan Lampu dan Pompa nutrisi TDS\n",
              "2  6.0    Ada  ...        491  Hidupkan Lampu dan Pompa nutrisi TDS\n",
              "3  6.5    Ada  ...      12000               Tidak melakukan apa-apa\n",
              "4  6.2    NaN  ...        444               Tidak melakukan apa-apa\n",
              "\n",
              "[5 rows x 7 columns]"
            ]
          },
          "metadata": {},
          "execution_count": 9
        }
      ]
    },
    {
      "cell_type": "code",
      "metadata": {
        "colab": {
          "base_uri": "https://localhost:8080/"
        },
        "id": "XaK1H8BdFCFN",
        "outputId": "210f01ed-1d64-4c26-f3f3-a162a3c2656b"
      },
      "source": [
        "data['cahaya'].unique()"
      ],
      "execution_count": null,
      "outputs": [
        {
          "output_type": "execute_result",
          "data": {
            "text/plain": [
              "array(['Ada', nan, 'Tidak ada'], dtype=object)"
            ]
          },
          "metadata": {},
          "execution_count": 10
        }
      ]
    },
    {
      "cell_type": "markdown",
      "metadata": {
        "id": "vCYDhpdfa9Vt"
      },
      "source": [
        "## 2. Mengganti data kategorikal menjadi bentuk numerical (Clue : Labelencoder tidak bekerja ketika ada missing value, gunakan metode lain)"
      ]
    },
    {
      "cell_type": "markdown",
      "metadata": {
        "id": "GUHyFLcGEfD-"
      },
      "source": [
        "Bagian ini ada yang tau nggak ???\n",
        "mengubah kategorikal tpi ada missing valuenya :("
      ]
    },
    {
      "cell_type": "code",
      "metadata": {
        "id": "HNAJfwlCa9Vu",
        "colab": {
          "base_uri": "https://localhost:8080/"
        },
        "outputId": "23c56577-4afa-4dda-a0db-2bcbede3dea8"
      },
      "source": [
        "#Isi Code\n",
        "# Untuk data cahaya\n",
        "def getNumber(str):\n",
        "    if str==\"Ada\":\n",
        "        return 1\n",
        "    elif str ==\"Tidak ada\":\n",
        "        return 2\n",
        "    else:\n",
        "      return None\n",
        "\n",
        "data['cahaya'] = data['cahaya'].apply(getNumber)\n",
        "data['cahaya'].unique()\n",
        "\n",
        "\n",
        "# Bgini aja ????? "
      ],
      "execution_count": null,
      "outputs": [
        {
          "output_type": "execute_result",
          "data": {
            "text/plain": [
              "array([ 1., nan,  2.])"
            ]
          },
          "metadata": {},
          "execution_count": 13
        }
      ]
    },
    {
      "cell_type": "code",
      "metadata": {
        "colab": {
          "base_uri": "https://localhost:8080/"
        },
        "id": "Jax68akQHQzm",
        "outputId": "de953d80-cbb9-445c-98e0-d298b70c91a6"
      },
      "source": [
        "# Untuk kolom intensitas_air\n",
        "def getNumberIntensity(str):\n",
        "  if str=='Tinggi':\n",
        "    return 1\n",
        "  elif str=='Cukup':\n",
        "    return 2\n",
        "  elif str=='Rendah':\n",
        "    return 3\n",
        "  else:\n",
        "    return 4\n",
        "\n",
        "data['intensitas_air']= data['intensitas_air'].apply(getNumberIntensity)\n",
        "data['intensitas_air'].unique()          "
      ],
      "execution_count": null,
      "outputs": [
        {
          "output_type": "execute_result",
          "data": {
            "text/plain": [
              "array([1, 2, 3, 4])"
            ]
          },
          "metadata": {},
          "execution_count": 15
        }
      ]
    },
    {
      "cell_type": "code",
      "metadata": {
        "colab": {
          "base_uri": "https://localhost:8080/"
        },
        "id": "p7EXxVwoGmk1",
        "outputId": "a095527b-fb1f-419f-8506-12f84602e9f9"
      },
      "source": [
        "print(data['intensitas_air'].unique())\n",
        "print(data['aksi'].unique())"
      ],
      "execution_count": null,
      "outputs": [
        {
          "output_type": "stream",
          "name": "stdout",
          "text": [
            "['Tinggi' 'Cukup' 'Rendah' 'Rendah sekali']\n",
            "['Hidupkan Lampu dan Pompa nutrisi TDS' 'Tidak melakukan apa-apa'\n",
            " 'Hidupkan Lampu' 'Hidupkan Pompa nutrisi TDS']\n"
          ]
        }
      ]
    },
    {
      "cell_type": "code",
      "metadata": {
        "colab": {
          "base_uri": "https://localhost:8080/"
        },
        "id": "ohir5pMlINow",
        "outputId": "dab3be5e-7a84-4186-9b8f-9803ffcfdd68"
      },
      "source": [
        "# Untuk kolom aksi\n",
        "def getNumberAksi(str):\n",
        "  if str=='Hidupkan Lampu dan Pompa nutrisi TDS':\n",
        "    return 1\n",
        "  elif str=='Tidak melakukan apa-apa':\n",
        "    return 2\n",
        "  elif str=='Hidupkan Lampu':\n",
        "    return 3\n",
        "  else:\n",
        "    return 4\n",
        "\n",
        "data['aksi']= data['aksi'].apply(getNumberAksi)\n",
        "data['aksi'].unique()  "
      ],
      "execution_count": null,
      "outputs": [
        {
          "output_type": "execute_result",
          "data": {
            "text/plain": [
              "array([1, 2, 3, 4])"
            ]
          },
          "metadata": {},
          "execution_count": 16
        }
      ]
    },
    {
      "cell_type": "markdown",
      "metadata": {
        "id": "W5Ka60uYa9Vv"
      },
      "source": [
        "## 3. Handle Missing Value"
      ]
    },
    {
      "cell_type": "code",
      "metadata": {
        "colab": {
          "base_uri": "https://localhost:8080/"
        },
        "id": "uyFN_v-SBhoP",
        "outputId": "8054fe1f-1539-4fef-a428-da7f8c1d4d0d"
      },
      "source": [
        "data.info()"
      ],
      "execution_count": null,
      "outputs": [
        {
          "output_type": "stream",
          "name": "stdout",
          "text": [
            "<class 'pandas.core.frame.DataFrame'>\n",
            "RangeIndex: 616 entries, 0 to 615\n",
            "Data columns (total 7 columns):\n",
            " #   Column          Non-Null Count  Dtype  \n",
            "---  ------          --------------  -----  \n",
            " 0   PH              600 non-null    float64\n",
            " 1   cahaya          590 non-null    object \n",
            " 2   intensitas air  616 non-null    object \n",
            " 3   suhu            589 non-null    float64\n",
            " 4   PPM             611 non-null    float64\n",
            " 5   tinggi air      616 non-null    int64  \n",
            " 6   aksi            616 non-null    object \n",
            "dtypes: float64(3), int64(1), object(3)\n",
            "memory usage: 33.8+ KB\n"
          ]
        }
      ]
    },
    {
      "cell_type": "code",
      "metadata": {
        "id": "z6BbPoqPa9Vv",
        "colab": {
          "base_uri": "https://localhost:8080/",
          "height": 265
        },
        "outputId": "113bb828-dcd1-4453-b3de-676758d93240"
      },
      "source": [
        "#Isi Code\n",
        "missing_data = pd.DataFrame({'total_missing': data.isnull().sum(), 'perc_missing': (data.isnull().sum()/616)*100})\n",
        "missing_data"
      ],
      "execution_count": null,
      "outputs": [
        {
          "output_type": "execute_result",
          "data": {
            "text/html": [
              "<div>\n",
              "<style scoped>\n",
              "    .dataframe tbody tr th:only-of-type {\n",
              "        vertical-align: middle;\n",
              "    }\n",
              "\n",
              "    .dataframe tbody tr th {\n",
              "        vertical-align: top;\n",
              "    }\n",
              "\n",
              "    .dataframe thead th {\n",
              "        text-align: right;\n",
              "    }\n",
              "</style>\n",
              "<table border=\"1\" class=\"dataframe\">\n",
              "  <thead>\n",
              "    <tr style=\"text-align: right;\">\n",
              "      <th></th>\n",
              "      <th>total_missing</th>\n",
              "      <th>perc_missing</th>\n",
              "    </tr>\n",
              "  </thead>\n",
              "  <tbody>\n",
              "    <tr>\n",
              "      <th>PH</th>\n",
              "      <td>16</td>\n",
              "      <td>2.597403</td>\n",
              "    </tr>\n",
              "    <tr>\n",
              "      <th>cahaya</th>\n",
              "      <td>26</td>\n",
              "      <td>4.220779</td>\n",
              "    </tr>\n",
              "    <tr>\n",
              "      <th>intensitas_air</th>\n",
              "      <td>0</td>\n",
              "      <td>0.000000</td>\n",
              "    </tr>\n",
              "    <tr>\n",
              "      <th>suhu</th>\n",
              "      <td>27</td>\n",
              "      <td>4.383117</td>\n",
              "    </tr>\n",
              "    <tr>\n",
              "      <th>PPM</th>\n",
              "      <td>5</td>\n",
              "      <td>0.811688</td>\n",
              "    </tr>\n",
              "    <tr>\n",
              "      <th>tinggi_air</th>\n",
              "      <td>0</td>\n",
              "      <td>0.000000</td>\n",
              "    </tr>\n",
              "    <tr>\n",
              "      <th>aksi</th>\n",
              "      <td>0</td>\n",
              "      <td>0.000000</td>\n",
              "    </tr>\n",
              "  </tbody>\n",
              "</table>\n",
              "</div>"
            ],
            "text/plain": [
              "                total_missing  perc_missing\n",
              "PH                         16      2.597403\n",
              "cahaya                     26      4.220779\n",
              "intensitas_air              0      0.000000\n",
              "suhu                       27      4.383117\n",
              "PPM                         5      0.811688\n",
              "tinggi_air                  0      0.000000\n",
              "aksi                        0      0.000000"
            ]
          },
          "metadata": {},
          "execution_count": 17
        }
      ]
    },
    {
      "cell_type": "markdown",
      "metadata": {
        "id": "nJZlJFImLU5R"
      },
      "source": [
        "Btw teman-teman yang saya ganti pake mean cuma data numerikal saja, kalau yang kategorikal tadi gak bisa pake mean"
      ]
    },
    {
      "cell_type": "code",
      "metadata": {
        "id": "YGKmpAElJxJo"
      },
      "source": [
        "# Untuk kolom ph, suhu, dan PPM\n",
        "data['PH'] = data['PH'].fillna(data['PH'].mean())\n",
        "data['suhu'] = data['suhu'].fillna(data['suhu'].mean())\n",
        "data['PPM'] = data['PPM'].fillna(data['PPM'].mean())"
      ],
      "execution_count": null,
      "outputs": []
    },
    {
      "cell_type": "code",
      "metadata": {
        "colab": {
          "base_uri": "https://localhost:8080/"
        },
        "id": "I7-gokirM68S",
        "outputId": "fdfab95b-71e4-434b-894c-66cf32609cff"
      },
      "source": [
        "data.isnull().sum()"
      ],
      "execution_count": null,
      "outputs": [
        {
          "output_type": "execute_result",
          "data": {
            "text/plain": [
              "PH                 0\n",
              "cahaya            26\n",
              "intensitas_air     0\n",
              "suhu               0\n",
              "PPM                0\n",
              "tinggi_air         0\n",
              "aksi               0\n",
              "dtype: int64"
            ]
          },
          "metadata": {},
          "execution_count": 25
        }
      ]
    },
    {
      "cell_type": "code",
      "metadata": {
        "colab": {
          "base_uri": "https://localhost:8080/"
        },
        "id": "uAl09QMBNxNF",
        "outputId": "8175746f-26fb-444d-9550-ef67f36f1157"
      },
      "source": [
        "# Untuk kolom cahaya\n",
        "modus = data['cahaya'].mode()[0]\n",
        "modus"
      ],
      "execution_count": null,
      "outputs": [
        {
          "output_type": "execute_result",
          "data": {
            "text/plain": [
              "1.0"
            ]
          },
          "metadata": {},
          "execution_count": 26
        }
      ]
    },
    {
      "cell_type": "code",
      "metadata": {
        "colab": {
          "base_uri": "https://localhost:8080/"
        },
        "id": "7A8iyxALOtRr",
        "outputId": "f36a9d36-34ca-4009-fbec-c7bd5fc3fb4f"
      },
      "source": [
        "data['cahaya'] = data['cahaya'].fillna(modus)\n",
        "\n",
        "data.isnull().sum()"
      ],
      "execution_count": null,
      "outputs": [
        {
          "output_type": "execute_result",
          "data": {
            "text/plain": [
              "PH                0\n",
              "cahaya            0\n",
              "intensitas_air    0\n",
              "suhu              0\n",
              "PPM               0\n",
              "tinggi_air        0\n",
              "aksi              0\n",
              "dtype: int64"
            ]
          },
          "metadata": {},
          "execution_count": 27
        }
      ]
    },
    {
      "cell_type": "markdown",
      "metadata": {
        "id": "PIckbMLkOJkY"
      },
      "source": [
        "# Okey teman-teman... missing valuenya sudah beres.. sekarang lanjut ke mendeteksi outlier yah :)"
      ]
    },
    {
      "cell_type": "markdown",
      "metadata": {
        "id": "GELQ5uyda9Vw"
      },
      "source": [
        "## 4. Detect outliers dan handling (bisa dihapus atau diganti nilainya dengan mean/modus/median)"
      ]
    },
    {
      "cell_type": "code",
      "metadata": {
        "id": "ll-868ipa9Vx"
      },
      "source": [
        "#Isi Code"
      ],
      "execution_count": null,
      "outputs": []
    },
    {
      "cell_type": "markdown",
      "metadata": {
        "id": "EFQ0YfYLa9Vy"
      },
      "source": [
        "## 5. Pisahkan data feature dengan label"
      ]
    },
    {
      "cell_type": "code",
      "metadata": {
        "id": "Jjxt06KTa9Vy"
      },
      "source": [
        "#Isi Code"
      ],
      "execution_count": null,
      "outputs": []
    },
    {
      "cell_type": "markdown",
      "metadata": {
        "id": "YCGKwPFra9Vz"
      },
      "source": [
        "## 6. Check Imbalanced Dataset, jika imbalanced, gunakan smote"
      ]
    },
    {
      "cell_type": "code",
      "metadata": {
        "id": "5YI-izdXa9V0"
      },
      "source": [
        "#pip install imbalanced-learn"
      ],
      "execution_count": null,
      "outputs": []
    },
    {
      "cell_type": "code",
      "metadata": {
        "id": "DIfkA5_da9V0"
      },
      "source": [
        "#Isi Code"
      ],
      "execution_count": null,
      "outputs": []
    },
    {
      "cell_type": "markdown",
      "metadata": {
        "id": "2gLiWKVza9V1"
      },
      "source": [
        "## 7. Visualisasikan Data sehingga kita bisa mengetahui sebuah informasi"
      ]
    },
    {
      "cell_type": "code",
      "metadata": {
        "id": "hJMzN-gMa9V2"
      },
      "source": [
        "#Isi Code"
      ],
      "execution_count": null,
      "outputs": []
    },
    {
      "cell_type": "markdown",
      "metadata": {
        "id": "byMOPkmra9V2"
      },
      "source": [
        "## 8. Lakukan Normalization menggunakan MinMaxScaler atau Standardization menggunakan StandarScaler"
      ]
    },
    {
      "cell_type": "code",
      "metadata": {
        "id": "i0XxulQra9V3"
      },
      "source": [
        "#Isi Kode"
      ],
      "execution_count": null,
      "outputs": []
    },
    {
      "cell_type": "markdown",
      "metadata": {
        "id": "FJpwBxZfa9V3"
      },
      "source": [
        "## 9. Buat model ANN"
      ]
    },
    {
      "cell_type": "code",
      "metadata": {
        "id": "1Zo0ODA8a9V4"
      },
      "source": [
        "#Isi Code"
      ],
      "execution_count": null,
      "outputs": []
    },
    {
      "cell_type": "markdown",
      "metadata": {
        "id": "ZVuY2QdwW6dO"
      },
      "source": [
        "## 10. Build Model KNN"
      ]
    },
    {
      "cell_type": "code",
      "metadata": {
        "id": "Dks_OpdeW9fY"
      },
      "source": [
        ""
      ],
      "execution_count": null,
      "outputs": []
    }
  ]
}